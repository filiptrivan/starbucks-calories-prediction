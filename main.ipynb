{
 "cells": [
  {
   "cell_type": "code",
   "execution_count": 18,
   "id": "eff66398",
   "metadata": {},
   "outputs": [],
   "source": [
    "import pandas as pd\n",
    "import numpy as np"
   ]
  },
  {
   "cell_type": "code",
   "execution_count": 14,
   "id": "af4f9ace",
   "metadata": {},
   "outputs": [
    {
     "name": "stdout",
     "output_type": "stream",
     "text": [
      "   drink_id                         beverage  fat_tot  carbohydrates_tot  \\\n",
      "0         1            Brewed Coffee (Short)      0.1                  5   \n",
      "1         2             Brewed Coffee (Tall)      0.1                 10   \n",
      "2         3           Brewed Coffee (Grande)      0.1                 10   \n",
      "3         4            Brewed Coffee (Venti)      0.1                 10   \n",
      "4         5  Caffè Latte (Short Nonfat Milk)      0.1                 75   \n",
      "\n",
      "   sugar  proteins  \n",
      "0      0       0.3  \n",
      "1      0       0.5  \n",
      "2      0       1.0  \n",
      "3      0       1.0  \n",
      "4      9       6.0  \n",
      "0     3\n",
      "1     4\n",
      "2     5\n",
      "3     5\n",
      "4    70\n",
      "Name: calories, dtype: int64\n"
     ]
    }
   ],
   "source": [
    "data = pd.read_csv('./starbucks_calories.csv')\n",
    "x = data.drop('calories', axis=1)\n",
    "y = data['calories']\n",
    "print(x.head())\n",
    "print(y.head())"
   ]
  },
  {
   "cell_type": "code",
   "execution_count": 20,
   "id": "5ff54947",
   "metadata": {},
   "outputs": [
    {
     "name": "stdout",
     "output_type": "stream",
     "text": [
      "[0. 0. 0. 0. 0. 0.]\n"
     ]
    }
   ],
   "source": [
    "alpha = 0.1\n",
    "m = x.shape[0] # number of rows\n",
    "n = x.shape[1] # number of features\n",
    "w = np.zeros(n)\n",
    "print(w)\n",
    "b = 0\n",
    "\n",
    "def gradient_descent():\n",
    "    return\n",
    "\n",
    "def cost():\n",
    "    return\n",
    "\n",
    "def recommend():\n",
    "    return x * w + b"
   ]
  },
  {
   "cell_type": "code",
   "execution_count": null,
   "id": "90ef9f75",
   "metadata": {},
   "outputs": [],
   "source": []
  }
 ],
 "metadata": {
  "kernelspec": {
   "display_name": "Python 3",
   "language": "python",
   "name": "python3"
  },
  "language_info": {
   "codemirror_mode": {
    "name": "ipython",
    "version": 3
   },
   "file_extension": ".py",
   "mimetype": "text/x-python",
   "name": "python",
   "nbconvert_exporter": "python",
   "pygments_lexer": "ipython3",
   "version": "3.11.3"
  }
 },
 "nbformat": 4,
 "nbformat_minor": 5
}
